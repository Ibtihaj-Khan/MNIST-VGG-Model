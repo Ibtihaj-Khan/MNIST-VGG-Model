{
  "nbformat": 4,
  "nbformat_minor": 0,
  "metadata": {
    "colab": {
      "provenance": [],
      "gpuType": "T4",
      "authorship_tag": "ABX9TyOi8TG2GmxFy02VJw0ocbvO",
      "include_colab_link": true
    },
    "kernelspec": {
      "name": "python3",
      "display_name": "Python 3"
    },
    "language_info": {
      "name": "python"
    },
    "accelerator": "GPU",
    "widgets": {
      "application/vnd.jupyter.widget-state+json": {
        "85a7b61569a34d0da84e0208cb0a33cc": {
          "model_module": "@jupyter-widgets/controls",
          "model_name": "HBoxModel",
          "model_module_version": "1.5.0",
          "state": {
            "_dom_classes": [],
            "_model_module": "@jupyter-widgets/controls",
            "_model_module_version": "1.5.0",
            "_model_name": "HBoxModel",
            "_view_count": null,
            "_view_module": "@jupyter-widgets/controls",
            "_view_module_version": "1.5.0",
            "_view_name": "HBoxView",
            "box_style": "",
            "children": [
              "IPY_MODEL_6f2d769cfa0745a2bbdf6f6277e4b957",
              "IPY_MODEL_fb3cafeb6aec463f94e50b0522998e96",
              "IPY_MODEL_3c5713384ca048febbd5cc5615070c76"
            ],
            "layout": "IPY_MODEL_00306f7e5e3b414382c3e89f3246a2ce"
          }
        },
        "6f2d769cfa0745a2bbdf6f6277e4b957": {
          "model_module": "@jupyter-widgets/controls",
          "model_name": "HTMLModel",
          "model_module_version": "1.5.0",
          "state": {
            "_dom_classes": [],
            "_model_module": "@jupyter-widgets/controls",
            "_model_module_version": "1.5.0",
            "_model_name": "HTMLModel",
            "_view_count": null,
            "_view_module": "@jupyter-widgets/controls",
            "_view_module_version": "1.5.0",
            "_view_name": "HTMLView",
            "description": "",
            "description_tooltip": null,
            "layout": "IPY_MODEL_1495f1edd04b4fffab16aae741951716",
            "placeholder": "​",
            "style": "IPY_MODEL_d5855ef92e2848bb8b3b2551aa34c90c",
            "value": "100%"
          }
        },
        "fb3cafeb6aec463f94e50b0522998e96": {
          "model_module": "@jupyter-widgets/controls",
          "model_name": "FloatProgressModel",
          "model_module_version": "1.5.0",
          "state": {
            "_dom_classes": [],
            "_model_module": "@jupyter-widgets/controls",
            "_model_module_version": "1.5.0",
            "_model_name": "FloatProgressModel",
            "_view_count": null,
            "_view_module": "@jupyter-widgets/controls",
            "_view_module_version": "1.5.0",
            "_view_name": "ProgressView",
            "bar_style": "success",
            "description": "",
            "description_tooltip": null,
            "layout": "IPY_MODEL_c85df7dab8d742ae9d0c2d3b430547b9",
            "max": 8,
            "min": 0,
            "orientation": "horizontal",
            "style": "IPY_MODEL_0bac019477e84498854d1b2c18445acf",
            "value": 8
          }
        },
        "3c5713384ca048febbd5cc5615070c76": {
          "model_module": "@jupyter-widgets/controls",
          "model_name": "HTMLModel",
          "model_module_version": "1.5.0",
          "state": {
            "_dom_classes": [],
            "_model_module": "@jupyter-widgets/controls",
            "_model_module_version": "1.5.0",
            "_model_name": "HTMLModel",
            "_view_count": null,
            "_view_module": "@jupyter-widgets/controls",
            "_view_module_version": "1.5.0",
            "_view_name": "HTMLView",
            "description": "",
            "description_tooltip": null,
            "layout": "IPY_MODEL_5f7cc4ff36a24177b8f937bafedaf614",
            "placeholder": "​",
            "style": "IPY_MODEL_a6a433af562a47cd88bc068460df4f82",
            "value": " 8/8 [01:37&lt;00:00, 12.10s/it]"
          }
        },
        "00306f7e5e3b414382c3e89f3246a2ce": {
          "model_module": "@jupyter-widgets/base",
          "model_name": "LayoutModel",
          "model_module_version": "1.2.0",
          "state": {
            "_model_module": "@jupyter-widgets/base",
            "_model_module_version": "1.2.0",
            "_model_name": "LayoutModel",
            "_view_count": null,
            "_view_module": "@jupyter-widgets/base",
            "_view_module_version": "1.2.0",
            "_view_name": "LayoutView",
            "align_content": null,
            "align_items": null,
            "align_self": null,
            "border": null,
            "bottom": null,
            "display": null,
            "flex": null,
            "flex_flow": null,
            "grid_area": null,
            "grid_auto_columns": null,
            "grid_auto_flow": null,
            "grid_auto_rows": null,
            "grid_column": null,
            "grid_gap": null,
            "grid_row": null,
            "grid_template_areas": null,
            "grid_template_columns": null,
            "grid_template_rows": null,
            "height": null,
            "justify_content": null,
            "justify_items": null,
            "left": null,
            "margin": null,
            "max_height": null,
            "max_width": null,
            "min_height": null,
            "min_width": null,
            "object_fit": null,
            "object_position": null,
            "order": null,
            "overflow": null,
            "overflow_x": null,
            "overflow_y": null,
            "padding": null,
            "right": null,
            "top": null,
            "visibility": null,
            "width": null
          }
        },
        "1495f1edd04b4fffab16aae741951716": {
          "model_module": "@jupyter-widgets/base",
          "model_name": "LayoutModel",
          "model_module_version": "1.2.0",
          "state": {
            "_model_module": "@jupyter-widgets/base",
            "_model_module_version": "1.2.0",
            "_model_name": "LayoutModel",
            "_view_count": null,
            "_view_module": "@jupyter-widgets/base",
            "_view_module_version": "1.2.0",
            "_view_name": "LayoutView",
            "align_content": null,
            "align_items": null,
            "align_self": null,
            "border": null,
            "bottom": null,
            "display": null,
            "flex": null,
            "flex_flow": null,
            "grid_area": null,
            "grid_auto_columns": null,
            "grid_auto_flow": null,
            "grid_auto_rows": null,
            "grid_column": null,
            "grid_gap": null,
            "grid_row": null,
            "grid_template_areas": null,
            "grid_template_columns": null,
            "grid_template_rows": null,
            "height": null,
            "justify_content": null,
            "justify_items": null,
            "left": null,
            "margin": null,
            "max_height": null,
            "max_width": null,
            "min_height": null,
            "min_width": null,
            "object_fit": null,
            "object_position": null,
            "order": null,
            "overflow": null,
            "overflow_x": null,
            "overflow_y": null,
            "padding": null,
            "right": null,
            "top": null,
            "visibility": null,
            "width": null
          }
        },
        "d5855ef92e2848bb8b3b2551aa34c90c": {
          "model_module": "@jupyter-widgets/controls",
          "model_name": "DescriptionStyleModel",
          "model_module_version": "1.5.0",
          "state": {
            "_model_module": "@jupyter-widgets/controls",
            "_model_module_version": "1.5.0",
            "_model_name": "DescriptionStyleModel",
            "_view_count": null,
            "_view_module": "@jupyter-widgets/base",
            "_view_module_version": "1.2.0",
            "_view_name": "StyleView",
            "description_width": ""
          }
        },
        "c85df7dab8d742ae9d0c2d3b430547b9": {
          "model_module": "@jupyter-widgets/base",
          "model_name": "LayoutModel",
          "model_module_version": "1.2.0",
          "state": {
            "_model_module": "@jupyter-widgets/base",
            "_model_module_version": "1.2.0",
            "_model_name": "LayoutModel",
            "_view_count": null,
            "_view_module": "@jupyter-widgets/base",
            "_view_module_version": "1.2.0",
            "_view_name": "LayoutView",
            "align_content": null,
            "align_items": null,
            "align_self": null,
            "border": null,
            "bottom": null,
            "display": null,
            "flex": null,
            "flex_flow": null,
            "grid_area": null,
            "grid_auto_columns": null,
            "grid_auto_flow": null,
            "grid_auto_rows": null,
            "grid_column": null,
            "grid_gap": null,
            "grid_row": null,
            "grid_template_areas": null,
            "grid_template_columns": null,
            "grid_template_rows": null,
            "height": null,
            "justify_content": null,
            "justify_items": null,
            "left": null,
            "margin": null,
            "max_height": null,
            "max_width": null,
            "min_height": null,
            "min_width": null,
            "object_fit": null,
            "object_position": null,
            "order": null,
            "overflow": null,
            "overflow_x": null,
            "overflow_y": null,
            "padding": null,
            "right": null,
            "top": null,
            "visibility": null,
            "width": null
          }
        },
        "0bac019477e84498854d1b2c18445acf": {
          "model_module": "@jupyter-widgets/controls",
          "model_name": "ProgressStyleModel",
          "model_module_version": "1.5.0",
          "state": {
            "_model_module": "@jupyter-widgets/controls",
            "_model_module_version": "1.5.0",
            "_model_name": "ProgressStyleModel",
            "_view_count": null,
            "_view_module": "@jupyter-widgets/base",
            "_view_module_version": "1.2.0",
            "_view_name": "StyleView",
            "bar_color": null,
            "description_width": ""
          }
        },
        "5f7cc4ff36a24177b8f937bafedaf614": {
          "model_module": "@jupyter-widgets/base",
          "model_name": "LayoutModel",
          "model_module_version": "1.2.0",
          "state": {
            "_model_module": "@jupyter-widgets/base",
            "_model_module_version": "1.2.0",
            "_model_name": "LayoutModel",
            "_view_count": null,
            "_view_module": "@jupyter-widgets/base",
            "_view_module_version": "1.2.0",
            "_view_name": "LayoutView",
            "align_content": null,
            "align_items": null,
            "align_self": null,
            "border": null,
            "bottom": null,
            "display": null,
            "flex": null,
            "flex_flow": null,
            "grid_area": null,
            "grid_auto_columns": null,
            "grid_auto_flow": null,
            "grid_auto_rows": null,
            "grid_column": null,
            "grid_gap": null,
            "grid_row": null,
            "grid_template_areas": null,
            "grid_template_columns": null,
            "grid_template_rows": null,
            "height": null,
            "justify_content": null,
            "justify_items": null,
            "left": null,
            "margin": null,
            "max_height": null,
            "max_width": null,
            "min_height": null,
            "min_width": null,
            "object_fit": null,
            "object_position": null,
            "order": null,
            "overflow": null,
            "overflow_x": null,
            "overflow_y": null,
            "padding": null,
            "right": null,
            "top": null,
            "visibility": null,
            "width": null
          }
        },
        "a6a433af562a47cd88bc068460df4f82": {
          "model_module": "@jupyter-widgets/controls",
          "model_name": "DescriptionStyleModel",
          "model_module_version": "1.5.0",
          "state": {
            "_model_module": "@jupyter-widgets/controls",
            "_model_module_version": "1.5.0",
            "_model_name": "DescriptionStyleModel",
            "_view_count": null,
            "_view_module": "@jupyter-widgets/base",
            "_view_module_version": "1.2.0",
            "_view_name": "StyleView",
            "description_width": ""
          }
        },
        "f99a994c0aff46d794b2a904589abdbc": {
          "model_module": "@jupyter-widgets/controls",
          "model_name": "HBoxModel",
          "model_module_version": "1.5.0",
          "state": {
            "_dom_classes": [],
            "_model_module": "@jupyter-widgets/controls",
            "_model_module_version": "1.5.0",
            "_model_name": "HBoxModel",
            "_view_count": null,
            "_view_module": "@jupyter-widgets/controls",
            "_view_module_version": "1.5.0",
            "_view_name": "HBoxView",
            "box_style": "",
            "children": [
              "IPY_MODEL_ab72e817fc0a4dd7be2ddc1ab03ab9da",
              "IPY_MODEL_1ae611e487d240d0a3516f30e74055ab",
              "IPY_MODEL_1522a66231c9438da6b94934e88f68f9"
            ],
            "layout": "IPY_MODEL_9c1062efef2947a8b4f0f9539d851d27"
          }
        },
        "ab72e817fc0a4dd7be2ddc1ab03ab9da": {
          "model_module": "@jupyter-widgets/controls",
          "model_name": "HTMLModel",
          "model_module_version": "1.5.0",
          "state": {
            "_dom_classes": [],
            "_model_module": "@jupyter-widgets/controls",
            "_model_module_version": "1.5.0",
            "_model_name": "HTMLModel",
            "_view_count": null,
            "_view_module": "@jupyter-widgets/controls",
            "_view_module_version": "1.5.0",
            "_view_name": "HTMLView",
            "description": "",
            "description_tooltip": null,
            "layout": "IPY_MODEL_e0f2a1bc75424946930d954490e2c8c5",
            "placeholder": "​",
            "style": "IPY_MODEL_b2df27e986c7422c9f48cb8e7b5c70dd",
            "value": "100%"
          }
        },
        "1ae611e487d240d0a3516f30e74055ab": {
          "model_module": "@jupyter-widgets/controls",
          "model_name": "FloatProgressModel",
          "model_module_version": "1.5.0",
          "state": {
            "_dom_classes": [],
            "_model_module": "@jupyter-widgets/controls",
            "_model_module_version": "1.5.0",
            "_model_name": "FloatProgressModel",
            "_view_count": null,
            "_view_module": "@jupyter-widgets/controls",
            "_view_module_version": "1.5.0",
            "_view_name": "ProgressView",
            "bar_style": "success",
            "description": "",
            "description_tooltip": null,
            "layout": "IPY_MODEL_8c744a9dfcbd4e39bb954e68b1cd7c5c",
            "max": 313,
            "min": 0,
            "orientation": "horizontal",
            "style": "IPY_MODEL_ecd2d0282ae64b6e9813f885a91b1802",
            "value": 313
          }
        },
        "1522a66231c9438da6b94934e88f68f9": {
          "model_module": "@jupyter-widgets/controls",
          "model_name": "HTMLModel",
          "model_module_version": "1.5.0",
          "state": {
            "_dom_classes": [],
            "_model_module": "@jupyter-widgets/controls",
            "_model_module_version": "1.5.0",
            "_model_name": "HTMLModel",
            "_view_count": null,
            "_view_module": "@jupyter-widgets/controls",
            "_view_module_version": "1.5.0",
            "_view_name": "HTMLView",
            "description": "",
            "description_tooltip": null,
            "layout": "IPY_MODEL_bfc6f50910d44362ae67fc8ea1effb33",
            "placeholder": "​",
            "style": "IPY_MODEL_1447d9c00c074cc48229b88200bcf339",
            "value": " 313/313 [00:01&lt;00:00, 250.75it/s]"
          }
        },
        "9c1062efef2947a8b4f0f9539d851d27": {
          "model_module": "@jupyter-widgets/base",
          "model_name": "LayoutModel",
          "model_module_version": "1.2.0",
          "state": {
            "_model_module": "@jupyter-widgets/base",
            "_model_module_version": "1.2.0",
            "_model_name": "LayoutModel",
            "_view_count": null,
            "_view_module": "@jupyter-widgets/base",
            "_view_module_version": "1.2.0",
            "_view_name": "LayoutView",
            "align_content": null,
            "align_items": null,
            "align_self": null,
            "border": null,
            "bottom": null,
            "display": null,
            "flex": null,
            "flex_flow": null,
            "grid_area": null,
            "grid_auto_columns": null,
            "grid_auto_flow": null,
            "grid_auto_rows": null,
            "grid_column": null,
            "grid_gap": null,
            "grid_row": null,
            "grid_template_areas": null,
            "grid_template_columns": null,
            "grid_template_rows": null,
            "height": null,
            "justify_content": null,
            "justify_items": null,
            "left": null,
            "margin": null,
            "max_height": null,
            "max_width": null,
            "min_height": null,
            "min_width": null,
            "object_fit": null,
            "object_position": null,
            "order": null,
            "overflow": null,
            "overflow_x": null,
            "overflow_y": null,
            "padding": null,
            "right": null,
            "top": null,
            "visibility": null,
            "width": null
          }
        },
        "e0f2a1bc75424946930d954490e2c8c5": {
          "model_module": "@jupyter-widgets/base",
          "model_name": "LayoutModel",
          "model_module_version": "1.2.0",
          "state": {
            "_model_module": "@jupyter-widgets/base",
            "_model_module_version": "1.2.0",
            "_model_name": "LayoutModel",
            "_view_count": null,
            "_view_module": "@jupyter-widgets/base",
            "_view_module_version": "1.2.0",
            "_view_name": "LayoutView",
            "align_content": null,
            "align_items": null,
            "align_self": null,
            "border": null,
            "bottom": null,
            "display": null,
            "flex": null,
            "flex_flow": null,
            "grid_area": null,
            "grid_auto_columns": null,
            "grid_auto_flow": null,
            "grid_auto_rows": null,
            "grid_column": null,
            "grid_gap": null,
            "grid_row": null,
            "grid_template_areas": null,
            "grid_template_columns": null,
            "grid_template_rows": null,
            "height": null,
            "justify_content": null,
            "justify_items": null,
            "left": null,
            "margin": null,
            "max_height": null,
            "max_width": null,
            "min_height": null,
            "min_width": null,
            "object_fit": null,
            "object_position": null,
            "order": null,
            "overflow": null,
            "overflow_x": null,
            "overflow_y": null,
            "padding": null,
            "right": null,
            "top": null,
            "visibility": null,
            "width": null
          }
        },
        "b2df27e986c7422c9f48cb8e7b5c70dd": {
          "model_module": "@jupyter-widgets/controls",
          "model_name": "DescriptionStyleModel",
          "model_module_version": "1.5.0",
          "state": {
            "_model_module": "@jupyter-widgets/controls",
            "_model_module_version": "1.5.0",
            "_model_name": "DescriptionStyleModel",
            "_view_count": null,
            "_view_module": "@jupyter-widgets/base",
            "_view_module_version": "1.2.0",
            "_view_name": "StyleView",
            "description_width": ""
          }
        },
        "8c744a9dfcbd4e39bb954e68b1cd7c5c": {
          "model_module": "@jupyter-widgets/base",
          "model_name": "LayoutModel",
          "model_module_version": "1.2.0",
          "state": {
            "_model_module": "@jupyter-widgets/base",
            "_model_module_version": "1.2.0",
            "_model_name": "LayoutModel",
            "_view_count": null,
            "_view_module": "@jupyter-widgets/base",
            "_view_module_version": "1.2.0",
            "_view_name": "LayoutView",
            "align_content": null,
            "align_items": null,
            "align_self": null,
            "border": null,
            "bottom": null,
            "display": null,
            "flex": null,
            "flex_flow": null,
            "grid_area": null,
            "grid_auto_columns": null,
            "grid_auto_flow": null,
            "grid_auto_rows": null,
            "grid_column": null,
            "grid_gap": null,
            "grid_row": null,
            "grid_template_areas": null,
            "grid_template_columns": null,
            "grid_template_rows": null,
            "height": null,
            "justify_content": null,
            "justify_items": null,
            "left": null,
            "margin": null,
            "max_height": null,
            "max_width": null,
            "min_height": null,
            "min_width": null,
            "object_fit": null,
            "object_position": null,
            "order": null,
            "overflow": null,
            "overflow_x": null,
            "overflow_y": null,
            "padding": null,
            "right": null,
            "top": null,
            "visibility": null,
            "width": null
          }
        },
        "ecd2d0282ae64b6e9813f885a91b1802": {
          "model_module": "@jupyter-widgets/controls",
          "model_name": "ProgressStyleModel",
          "model_module_version": "1.5.0",
          "state": {
            "_model_module": "@jupyter-widgets/controls",
            "_model_module_version": "1.5.0",
            "_model_name": "ProgressStyleModel",
            "_view_count": null,
            "_view_module": "@jupyter-widgets/base",
            "_view_module_version": "1.2.0",
            "_view_name": "StyleView",
            "bar_color": null,
            "description_width": ""
          }
        },
        "bfc6f50910d44362ae67fc8ea1effb33": {
          "model_module": "@jupyter-widgets/base",
          "model_name": "LayoutModel",
          "model_module_version": "1.2.0",
          "state": {
            "_model_module": "@jupyter-widgets/base",
            "_model_module_version": "1.2.0",
            "_model_name": "LayoutModel",
            "_view_count": null,
            "_view_module": "@jupyter-widgets/base",
            "_view_module_version": "1.2.0",
            "_view_name": "LayoutView",
            "align_content": null,
            "align_items": null,
            "align_self": null,
            "border": null,
            "bottom": null,
            "display": null,
            "flex": null,
            "flex_flow": null,
            "grid_area": null,
            "grid_auto_columns": null,
            "grid_auto_flow": null,
            "grid_auto_rows": null,
            "grid_column": null,
            "grid_gap": null,
            "grid_row": null,
            "grid_template_areas": null,
            "grid_template_columns": null,
            "grid_template_rows": null,
            "height": null,
            "justify_content": null,
            "justify_items": null,
            "left": null,
            "margin": null,
            "max_height": null,
            "max_width": null,
            "min_height": null,
            "min_width": null,
            "object_fit": null,
            "object_position": null,
            "order": null,
            "overflow": null,
            "overflow_x": null,
            "overflow_y": null,
            "padding": null,
            "right": null,
            "top": null,
            "visibility": null,
            "width": null
          }
        },
        "1447d9c00c074cc48229b88200bcf339": {
          "model_module": "@jupyter-widgets/controls",
          "model_name": "DescriptionStyleModel",
          "model_module_version": "1.5.0",
          "state": {
            "_model_module": "@jupyter-widgets/controls",
            "_model_module_version": "1.5.0",
            "_model_name": "DescriptionStyleModel",
            "_view_count": null,
            "_view_module": "@jupyter-widgets/base",
            "_view_module_version": "1.2.0",
            "_view_name": "StyleView",
            "description_width": ""
          }
        }
      }
    }
  },
  "cells": [
    {
      "cell_type": "markdown",
      "metadata": {
        "id": "view-in-github",
        "colab_type": "text"
      },
      "source": [
        "<a href=\"https://colab.research.google.com/github/Ibtihaj-Khan/MNIST-VGG-Model/blob/main/MNIST_VGG_Model.ipynb\" target=\"_parent\"><img src=\"https://colab.research.google.com/assets/colab-badge.svg\" alt=\"Open In Colab\"/></a>"
      ]
    },
    {
      "cell_type": "code",
      "execution_count": 12,
      "metadata": {
        "id": "WgQDwDyAghy1"
      },
      "outputs": [],
      "source": [
        "import torch\n",
        "from torch import nn\n",
        "from matplotlib import pyplot as plt\n",
        "from torchvision import datasets\n",
        "from torchvision.transforms import ToTensor\n",
        "from torch.utils.data import DataLoader\n",
        "import requests\n",
        "from timeit import default_timer as timer\n",
        "from tqdm.auto import tqdm\n",
        "\n",
        "#Using accuracy function from this source (Thanks)\n",
        "request = requests.get(\"https://raw.githubusercontent.com/mrdbourke/pytorch-deep-learning/main/helper_functions.py\")\n",
        "with open(\"helper_functions.py\", \"wb\") as f:\n",
        "    f.write(request.content)\n",
        "\n",
        "from helper_functions import accuracy_fn"
      ]
    },
    {
      "cell_type": "code",
      "source": [
        "#init device agnostic code\n",
        "device = \"cuda\" if torch.cuda.is_available() else \"cpu\""
      ],
      "metadata": {
        "id": "AKDDaCHIhtFX"
      },
      "execution_count": 13,
      "outputs": []
    },
    {
      "cell_type": "code",
      "source": [
        "#Getting test and train data\n",
        "train_data = datasets.MNIST(root=\"data\",\n",
        "                            train=True,\n",
        "                            transform=ToTensor(),\n",
        "                            download=True)\n",
        "\n",
        "test_data = datasets.MNIST(root=\"data\",\n",
        "                           train=False,\n",
        "                           transform=ToTensor(),\n",
        "                           download=True)"
      ],
      "metadata": {
        "id": "f_3AxFmNhcJt"
      },
      "execution_count": 14,
      "outputs": []
    },
    {
      "cell_type": "code",
      "source": [
        "#Getting class names, and plotting some samples to figure out what this is.\n",
        "\n",
        "class_names = train_data.classes\n",
        "\n",
        "plt.subplots(2,5, figsize=(15, 6))\n",
        "\n",
        "for i in range(len(class_names)):\n",
        "  sample_image, sample_label = train_data[i]\n",
        "  plt.subplot(2,5,i+1)\n",
        "  plt.imshow(sample_image.squeeze())\n",
        "  plt.title(class_names[sample_label])\n",
        "  plt.axis(False)"
      ],
      "metadata": {
        "colab": {
          "base_uri": "https://localhost:8080/",
          "height": 511
        },
        "id": "1njHv6PtikKs",
        "outputId": "4c017c62-e329-4d3f-c4e1-6d5e78e6dd90"
      },
      "execution_count": 15,
      "outputs": [
        {
          "output_type": "display_data",
          "data": {
            "text/plain": [
              "<Figure size 1500x600 with 10 Axes>"
            ],
            "image/png": "[encoded data removed]"
          },
          "metadata": {}
        }
      ]
    },
    {
      "cell_type": "code",
      "source": [
        "sample_image, sample_label=test_data[5]\n",
        "sample_image.shape, sample_label"
      ],
      "metadata": {
        "colab": {
          "base_uri": "https://localhost:8080/"
        },
        "id": "qMZ2vpALl-7j",
        "outputId": "ca9a6289-7011-4dad-807d-01f4c96d0ed1"
      },
      "execution_count": 16,
      "outputs": [
        {
          "output_type": "execute_result",
          "data": {
            "text/plain": [
              "(torch.Size([1, 28, 28]), 1)"
            ]
          },
          "metadata": {},
          "execution_count": 16
        }
      ]
    },
    {
      "cell_type": "markdown",
      "source": [
        "What we can see in the data set is that this is a bunch of numbers images. The torch shape tells us that this is a 28 x 28 image with 1 color channel, and each image maps up to one label. This is a computer vision multiclass classification problem where we will take pictures of numbers and guess what they are.\n",
        "\n",
        "We can begin by converting data into data loaders, create a model, do a dummy pass, prepare our functionalized training and test steps, and train the model."
      ],
      "metadata": {
        "id": "u0FAQo5wl8Q3"
      }
    },
    {
      "cell_type": "code",
      "source": [
        "#Prep our data into data loaders\n",
        "train_dataloader = DataLoader(dataset=train_data,\n",
        "                              batch_size=32,\n",
        "                              shuffle=True)\n",
        "\n",
        "test_dataloader = DataLoader(dataset=test_data,\n",
        "                             batch_size=32)"
      ],
      "metadata": {
        "id": "f8_3F1I892FV"
      },
      "execution_count": 17,
      "outputs": []
    },
    {
      "cell_type": "markdown",
      "source": [
        "Preparing a model in the architecture of the tiny VGG model: https://poloclub.github.io/cnn-explainer/\n",
        "\n",
        "Two Convolutional blocks (Conv2d -> Relu -> Conv2d -> Relu -> MaxPool) x 2\n",
        "followed by an output layer"
      ],
      "metadata": {
        "id": "_i44hX89Dl6m"
      }
    },
    {
      "cell_type": "code",
      "source": [
        "class TinyVGG(nn.Module):\n",
        "  def __init__(self, in_features, hidden_units, out_features):\n",
        "    super().__init__()\n",
        "\n",
        "    self.block_1=nn.Sequential(\n",
        "        nn.Conv2d(in_channels=in_features,\n",
        "                  out_channels=hidden_units,\n",
        "                  kernel_size=3,\n",
        "                  stride=1,\n",
        "                  padding=1),\n",
        "        nn.ReLU(),\n",
        "        nn.Conv2d(in_channels=hidden_units,\n",
        "                  out_channels=hidden_units,\n",
        "                  kernel_size=3,\n",
        "                  stride=1,\n",
        "                  padding=1),\n",
        "        nn.ReLU(),\n",
        "        nn.MaxPool2d(kernel_size=2)\n",
        "    )\n",
        "\n",
        "    self.block_2=nn.Sequential(\n",
        "        nn.Conv2d(in_channels=hidden_units,\n",
        "                  out_channels=hidden_units,\n",
        "                  kernel_size=3,\n",
        "                  stride=1,\n",
        "                  padding=1),\n",
        "        nn.ReLU(),\n",
        "        nn.Conv2d(in_channels=hidden_units,\n",
        "                  out_channels=hidden_units,\n",
        "                  kernel_size=3,\n",
        "                  stride=1,\n",
        "                  padding=1),\n",
        "        nn.ReLU(),\n",
        "        nn.MaxPool2d(kernel_size=2)\n",
        "    )\n",
        "\n",
        "    self.output_layer=nn.Sequential(\n",
        "        nn.Flatten(),\n",
        "        nn.Linear(in_features=hidden_units*7*7, #When we ran dummy pass without multipliers, we determined these by seeing shape change\n",
        "                  out_features=out_features)\n",
        "    )\n",
        "\n",
        "  def forward(self, x):\n",
        "    #print(x.shape)\n",
        "    x=self.block_1(x)\n",
        "    #print(x.shape)\n",
        "    x=self.block_2(x)\n",
        "    #print(x.shape)\n",
        "    x=self.output_layer(x)\n",
        "    #print(x.shape)\n",
        "    return x"
      ],
      "metadata": {
        "id": "APoAKc6M-87-"
      },
      "execution_count": 18,
      "outputs": []
    },
    {
      "cell_type": "markdown",
      "source": [
        "Do a dummy pass to figure out output layer in_feature multiplier based on printed output of shape as it passes through the model."
      ],
      "metadata": {
        "id": "qSwn_melFZAs"
      }
    },
    {
      "cell_type": "code",
      "source": [
        "#Instantiate model\n",
        "IN_FEATURES = 1 #One channel per image\n",
        "HIDDEN_UNITS = 10 #10 units are in the tiny vgg model we are replicating\n",
        "OUT_FEATURES = len(class_names) #Total possible output classes\n",
        "\n",
        "model_0 = TinyVGG(IN_FEATURES, HIDDEN_UNITS, OUT_FEATURES)\n",
        "y_logit = model_0(sample_image.unsqueeze(dim=1)) #add dummy batch dimension\n",
        "y_pred = torch.softmax(y_logit, dim=1).argmax(dim=1)\n",
        "print(y_logit, y_pred)\n",
        "\n",
        "#Initialize loss functions and optimizer\n",
        "loss_fn = nn.CrossEntropyLoss()\n",
        "optimizer = torch.optim.SGD(params=model_0.parameters(),\n",
        "                            lr=0.04)"
      ],
      "metadata": {
        "colab": {
          "base_uri": "https://localhost:8080/"
        },
        "id": "bR8TW8zbFhMy",
        "outputId": "b9d03ecc-bdb4-45da-8de4-313fbc66e096"
      },
      "execution_count": 19,
      "outputs": [
        {
          "output_type": "stream",
          "name": "stdout",
          "text": [
            "tensor([[ 0.0054,  0.0517, -0.0179, -0.0267, -0.0392,  0.0465,  0.0049,  0.0020,\n",
            "          0.0269, -0.0453]], grad_fn=<AddmmBackward0>) tensor([1])\n"
          ]
        }
      ]
    },
    {
      "cell_type": "markdown",
      "source": [
        "We see that our dummy pass is giving us length 10 output logits, which is in line with our expectations for 10 total possible classes! This means out model is atleast giving us output in the expected shape. We can proceed to create training and test steps."
      ],
      "metadata": {
        "id": "_NP6z9roHY0V"
      }
    },
    {
      "cell_type": "code",
      "source": [
        "def train_step(model: nn.Module,\n",
        "               dataloader: torch.utils.data.DataLoader,\n",
        "               loss_fn, optimizer, accuracy_fn,\n",
        "               device = device):\n",
        "\n",
        "  train_loss, train_acc = 0, 0\n",
        "\n",
        "  #Model in training mode\n",
        "  model.to(device)\n",
        "  model.train()\n",
        "\n",
        "  for batch, (X, y) in enumerate(dataloader):\n",
        "    #Send data to device like model\n",
        "    X, y = X.to(device), y.to(device)\n",
        "\n",
        "    #Do the forward pass, get logits and predictions\n",
        "    train_logits = model(X)\n",
        "    train_pred = torch.softmax(train_logits, dim=1).argmax(dim=1)\n",
        "\n",
        "    #Calculate the loss and accuracy, increment totals\n",
        "    loss = loss_fn(train_logits, y)\n",
        "    train_loss += loss\n",
        "    train_acc += accuracy_fn(y_true=y,\n",
        "                            y_pred=train_pred)\n",
        "\n",
        "    #Zero optimizer grad\n",
        "    optimizer.zero_grad()\n",
        "\n",
        "    #loss backward\n",
        "    loss.backward()\n",
        "\n",
        "    #step optimizer\n",
        "    optimizer.step()\n",
        "\n",
        "  #divide total loss/accuracy by length of data\n",
        "  train_loss /= len(dataloader)\n",
        "  train_acc /= len(dataloader)\n",
        "\n",
        "  print(f\"Training Loss: {train_loss} | Training Accuracy: {train_acc}%\")"
      ],
      "metadata": {
        "id": "lRhGcSDPl7LN"
      },
      "execution_count": 20,
      "outputs": []
    },
    {
      "cell_type": "code",
      "source": [
        "def test_step(model:nn.Module,\n",
        "              dataloader: torch.utils.data.DataLoader,\n",
        "              loss_fn, accuracy_fn,\n",
        "              device = device):\n",
        "\n",
        "  test_loss, test_acc = 0, 0\n",
        "\n",
        "  #Model in evaluation mode\n",
        "  model.to(device)\n",
        "  model.eval()\n",
        "\n",
        "  with torch.inference_mode():\n",
        "    for batch, (X, y) in enumerate(dataloader):\n",
        "\n",
        "      #Sending data to target device\n",
        "      X, y = X.to(device), y.to(device)\n",
        "\n",
        "      #Forward pass\n",
        "      test_logits = model(X)\n",
        "      test_pred = torch.softmax(test_logits, dim=1).argmax(dim=1)\n",
        "\n",
        "      #Calculate loss and accuracy\n",
        "      loss = loss_fn(test_logits, y)\n",
        "      test_loss += loss\n",
        "      test_acc += accuracy_fn(y_true=y,\n",
        "                              y_pred=test_pred)\n",
        "\n",
        "    test_loss /= len(dataloader)\n",
        "    test_acc /= len(dataloader)\n",
        "\n",
        "  print(f\"Test loss: {test_loss} | Test acc: {test_acc}%\")"
      ],
      "metadata": {
        "id": "v1mY7s4hJIT-"
      },
      "execution_count": 21,
      "outputs": []
    },
    {
      "cell_type": "markdown",
      "source": [
        "Time to kick off the training and see how it goes."
      ],
      "metadata": {
        "id": "4lSBHFCkLUxi"
      }
    },
    {
      "cell_type": "code",
      "source": [
        "epochs = 8\n",
        "\n",
        "start_time = timer()\n",
        "\n",
        "for epoch in tqdm(range(epochs)):\n",
        "  print(f\"\\n-------------Epoch {epoch}-------------\")\n",
        "\n",
        "  train_step(model=model_0,\n",
        "             dataloader=train_dataloader,\n",
        "             loss_fn=loss_fn,\n",
        "             optimizer=optimizer,\n",
        "             accuracy_fn=accuracy_fn)\n",
        "\n",
        "  test_step(model=model_0,\n",
        "            dataloader=test_dataloader,\n",
        "            loss_fn=loss_fn,\n",
        "            accuracy_fn=accuracy_fn)\n",
        "\n",
        "end_time = timer()\n",
        "\n",
        "print(f\"Total training time: {end_time-start_time:.2f}.\")"
      ],
      "metadata": {
        "colab": {
          "base_uri": "https://localhost:8080/",
          "height": 638,
          "referenced_widgets": [
            "85a7b61569a34d0da84e0208cb0a33cc",
            "6f2d769cfa0745a2bbdf6f6277e4b957",
            "fb3cafeb6aec463f94e50b0522998e96",
            "3c5713384ca048febbd5cc5615070c76",
            "00306f7e5e3b414382c3e89f3246a2ce",
            "1495f1edd04b4fffab16aae741951716",
            "d5855ef92e2848bb8b3b2551aa34c90c",
            "c85df7dab8d742ae9d0c2d3b430547b9",
            "0bac019477e84498854d1b2c18445acf",
            "5f7cc4ff36a24177b8f937bafedaf614",
            "a6a433af562a47cd88bc068460df4f82"
          ]
        },
        "id": "JwSKYdkwLbMI",
        "outputId": "edb6438f-d85e-4233-8246-4b0b78e64441"
      },
      "execution_count": 22,
      "outputs": [
        {
          "output_type": "display_data",
          "data": {
            "text/plain": [
              "  0%|          | 0/8 [00:00<?, ?it/s]"
            ],
            "application/vnd.jupyter.widget-view+json": {
              "version_major": 2,
              "version_minor": 0,
              "model_id": "85a7b61569a34d0da84e0208cb0a33cc"
            }
          },
          "metadata": {}
        },
        {
          "output_type": "stream",
          "name": "stdout",
          "text": [
            "\n",
            "-------------Epoch 0-------------\n",
            "Training Loss: 0.48223981261253357 | Training Accuracy: 83.09666666666666%\n",
            "Test loss: 0.0854867696762085 | Test acc: 97.29432907348243%\n",
            "\n",
            "-------------Epoch 1-------------\n",
            "Training Loss: 0.08815184980630875 | Training Accuracy: 97.30833333333334%\n",
            "Test loss: 0.06970030069351196 | Test acc: 97.83346645367412%\n",
            "\n",
            "-------------Epoch 2-------------\n",
            "Training Loss: 0.06947116553783417 | Training Accuracy: 97.85%\n",
            "Test loss: 0.051310066133737564 | Test acc: 98.23282747603834%\n",
            "\n",
            "-------------Epoch 3-------------\n",
            "Training Loss: 0.058888889849185944 | Training Accuracy: 98.16666666666667%\n",
            "Test loss: 0.049005988985300064 | Test acc: 98.31269968051119%\n",
            "\n",
            "-------------Epoch 4-------------\n",
            "Training Loss: 0.05264013633131981 | Training Accuracy: 98.33833333333334%\n",
            "Test loss: 0.04575319588184357 | Test acc: 98.46246006389777%\n",
            "\n",
            "-------------Epoch 5-------------\n",
            "Training Loss: 0.04634423553943634 | Training Accuracy: 98.615%\n",
            "Test loss: 0.04327936843037605 | Test acc: 98.64217252396166%\n",
            "\n",
            "-------------Epoch 6-------------\n",
            "Training Loss: 0.04404735565185547 | Training Accuracy: 98.6%\n",
            "Test loss: 0.04212465137243271 | Test acc: 98.5223642172524%\n",
            "\n",
            "-------------Epoch 7-------------\n",
            "Training Loss: 0.04013993218541145 | Training Accuracy: 98.78%\n",
            "Test loss: 0.04244786500930786 | Test acc: 98.58226837060703%\n",
            "Total training time: 97.26.\n"
          ]
        }
      ]
    },
    {
      "cell_type": "markdown",
      "source": [
        "Well, this is very good results on paper. It looks like our model is super accurate with very low loss. In order to make sure we actually set it up correctly, lets make some predictions and plot a confusion matrix to see."
      ],
      "metadata": {
        "id": "tx4xcAsFNUXL"
      }
    },
    {
      "cell_type": "code",
      "source": [
        "#Install metrics\n",
        "!pip install torchmetrics -q\n",
        "\n",
        "import torchmetrics, mlxtend"
      ],
      "metadata": {
        "colab": {
          "base_uri": "https://localhost:8080/"
        },
        "id": "dGe2X3pTNiLF",
        "outputId": "a462929c-4790-413b-8ff8-97531b06c2d9"
      },
      "execution_count": 23,
      "outputs": [
        {
          "output_type": "stream",
          "name": "stdout",
          "text": [
            "\u001b[?25l     \u001b[90m━━━━━━━━━━━━━━━━━━━━━━━━━━━━━━━━━━━━━━━━\u001b[0m \u001b[32m0.0/841.5 kB\u001b[0m \u001b[31m?\u001b[0m eta \u001b[36m-:--:--\u001b[0m\r\u001b[2K     \u001b[91m━━\u001b[0m\u001b[90m╺\u001b[0m\u001b[90m━━━━━━━━━━━━━━━━━━━━━━━━━━━━━━━━━━━━━\u001b[0m \u001b[32m51.2/841.5 kB\u001b[0m \u001b[31m1.3 MB/s\u001b[0m eta \u001b[36m0:00:01\u001b[0m\r\u001b[2K     \u001b[91m━━━━━━\u001b[0m\u001b[91m╸\u001b[0m\u001b[90m━━━━━━━━━━━━━━━━━━━━━━━━━━━━━━━━━\u001b[0m \u001b[32m143.4/841.5 kB\u001b[0m \u001b[31m2.0 MB/s\u001b[0m eta \u001b[36m0:00:01\u001b[0m\r\u001b[2K     \u001b[91m━━━━━━━━━━━━━━━━━\u001b[0m\u001b[91m╸\u001b[0m\u001b[90m━━━━━━━━━━━━━━━━━━━━━━\u001b[0m \u001b[32m368.6/841.5 kB\u001b[0m \u001b[31m3.5 MB/s\u001b[0m eta \u001b[36m0:00:01\u001b[0m\r\u001b[2K     \u001b[91m━━━━━━━━━━━━━━━━━━━━━━━━━━━━━━━━━━━━━━━\u001b[0m\u001b[91m╸\u001b[0m \u001b[32m839.7/841.5 kB\u001b[0m \u001b[31m6.0 MB/s\u001b[0m eta \u001b[36m0:00:01\u001b[0m\r\u001b[2K     \u001b[90m━━━━━━━━━━━━━━━━━━━━━━━━━━━━━━━━━━━━━━━━\u001b[0m \u001b[32m841.5/841.5 kB\u001b[0m \u001b[31m5.5 MB/s\u001b[0m eta \u001b[36m0:00:00\u001b[0m\n",
            "\u001b[?25h"
          ]
        }
      ]
    },
    {
      "cell_type": "code",
      "source": [
        "#Make predictions\n",
        "y_preds = []\n",
        "\n",
        "model_0.to(device)\n",
        "model_0.eval()\n",
        "\n",
        "with torch.inference_mode():\n",
        "  for X, y in tqdm(test_dataloader):\n",
        "    X = X.to(device)\n",
        "\n",
        "    y_logits = model_0(X)\n",
        "    y_pred = torch.softmax(y_logits, dim=1).argmax(dim=1)\n",
        "\n",
        "    y_preds.append(y_pred)\n",
        "\n",
        "y_pred_tensor = torch.cat(y_preds)"
      ],
      "metadata": {
        "colab": {
          "base_uri": "https://localhost:8080/",
          "height": 49,
          "referenced_widgets": [
            "f99a994c0aff46d794b2a904589abdbc",
            "ab72e817fc0a4dd7be2ddc1ab03ab9da",
            "1ae611e487d240d0a3516f30e74055ab",
            "1522a66231c9438da6b94934e88f68f9",
            "9c1062efef2947a8b4f0f9539d851d27",
            "e0f2a1bc75424946930d954490e2c8c5",
            "b2df27e986c7422c9f48cb8e7b5c70dd",
            "8c744a9dfcbd4e39bb954e68b1cd7c5c",
            "ecd2d0282ae64b6e9813f885a91b1802",
            "bfc6f50910d44362ae67fc8ea1effb33",
            "1447d9c00c074cc48229b88200bcf339"
          ]
        },
        "id": "pJV0CFvuN5jU",
        "outputId": "6e49abf4-ebdc-4031-c40d-0a621c358b2b"
      },
      "execution_count": 30,
      "outputs": [
        {
          "output_type": "display_data",
          "data": {
            "text/plain": [
              "  0%|          | 0/313 [00:00<?, ?it/s]"
            ],
            "application/vnd.jupyter.widget-view+json": {
              "version_major": 2,
              "version_minor": 0,
              "model_id": "f99a994c0aff46d794b2a904589abdbc"
            }
          },
          "metadata": {}
        }
      ]
    },
    {
      "cell_type": "code",
      "source": [
        "from torchmetrics import ConfusionMatrix\n",
        "from mlxtend.plotting import plot_confusion_matrix"
      ],
      "metadata": {
        "id": "4E4xe9qSPDU6"
      },
      "execution_count": 31,
      "outputs": []
    },
    {
      "cell_type": "code",
      "source": [
        "#Create the confusion matrix\n",
        "confmat = ConfusionMatrix(num_classes=len(class_names),\n",
        "                          task=\"multiclass\")\n",
        "\n",
        "confmat_tensor = confmat(y_pred_tensor.to(\"cpu\"), test_data.targets)\n",
        "confmat_tensor"
      ],
      "metadata": {
        "colab": {
          "base_uri": "https://localhost:8080/"
        },
        "id": "7gp6RyEbPLpI",
        "outputId": "3bdf909e-7e24-46ef-8aee-715d3f3ef6f0"
      },
      "execution_count": 33,
      "outputs": [
        {
          "output_type": "execute_result",
          "data": {
            "text/plain": [
              "tensor([[ 979,    0,    0,    0,    0,    1,    0,    0,    0,    0],\n",
              "        [   0, 1122,    4,    0,    0,    0,    4,    1,    4,    0],\n",
              "        [   3,    0, 1014,    6,    1,    0,    0,    2,    5,    1],\n",
              "        [   0,    0,    0, 1002,    0,    3,    0,    2,    3,    0],\n",
              "        [   1,    0,    2,    0,  962,    0,    1,    0,    4,   12],\n",
              "        [   1,    0,    0,    4,    0,  883,    1,    1,    1,    1],\n",
              "        [   9,    2,    0,    1,    2,    3,  936,    0,    5,    0],\n",
              "        [   0,    1,    7,    1,    0,    1,    0, 1014,    3,    1],\n",
              "        [   2,    0,    3,    2,    1,    1,    0,    1,  963,    1],\n",
              "        [   1,    1,    0,    1,    4,    8,    0,    5,    6,  983]])"
            ]
          },
          "metadata": {},
          "execution_count": 33
        }
      ]
    },
    {
      "cell_type": "code",
      "source": [
        "fix, ax = plot_confusion_matrix(conf_mat=confmat_tensor.numpy(),\n",
        "                                class_names=class_names,\n",
        "                                figsize=(10,7))"
      ],
      "metadata": {
        "colab": {
          "base_uri": "https://localhost:8080/",
          "height": 660
        },
        "id": "8CC2T7YaPrWa",
        "outputId": "0c5c7778-afa9-4a28-b75b-7fc39cf0f356"
      },
      "execution_count": 36,
      "outputs": [
        {
          "output_type": "display_data",
          "data": {
            "text/plain": [
              "<Figure size 1000x700 with 1 Axes>"
            ],
            "image/png": "[encoded data removed]"
          },
          "metadata": {}
        }
      ]
    },
    {
      "cell_type": "markdown",
      "source": [
        "This is very fantastic. Our model is almost always dead on with its predictions, with a few getting confused, for example 9 and 4, and 0 and 6. With the way some of these can be drawn, its can make some sense so we can conclude this model is pretty good."
      ],
      "metadata": {
        "id": "kObM-R_RP8a2"
      }
    }
  ]
}